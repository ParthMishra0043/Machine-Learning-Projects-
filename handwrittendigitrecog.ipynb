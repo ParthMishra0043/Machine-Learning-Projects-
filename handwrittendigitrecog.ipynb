{
 "cells": [
  {
   "cell_type": "code",
   "execution_count": null,
   "metadata": {
    "colab": {
     "base_uri": "https://localhost:8080/",
     "height": 403
    },
    "id": "Btt6O79mj7ks",
    "outputId": "7bf36302-469a-4082-d376-2594d793eb66"
   },
   "outputs": [
    {
     "name": "stdout",
     "output_type": "stream",
     "text": [
      "Epoch 1/3\n",
      "1875/1875 [==============================] - 4s 2ms/step - loss: 2.4443 - accuracy: 0.8554\n",
      "Epoch 2/3\n",
      "1875/1875 [==============================] - 4s 2ms/step - loss: 0.3569 - accuracy: 0.9145\n",
      "Epoch 3/3\n",
      "1875/1875 [==============================] - 4s 2ms/step - loss: 0.2720 - accuracy: 0.9306\n",
      "313/313 [==============================] - 0s 1ms/step - loss: 0.2798 - accuracy: 0.9353\n",
      "0.2797858417034149\n",
      "0.9352999925613403\n",
      "INFO:tensorflow:Assets written to: epic_num_reader.model/assets\n",
      "[[8.6236123e-28 1.1096811e-15 1.0702688e-14 ... 1.0000000e+00\n",
      "  8.2272076e-19 1.6866541e-12]\n",
      " [9.9910491e-10 1.4160058e-02 9.8551834e-01 ... 5.2512769e-05\n",
      "  2.4265093e-11 3.2520047e-15]\n",
      " [4.4858723e-19 9.9957699e-01 3.8229142e-12 ... 3.0581556e-05\n",
      "  5.1275015e-07 7.1980438e-10]\n",
      " ...\n",
      " [6.1781828e-29 1.1556314e-12 7.6936686e-33 ... 3.0863248e-08\n",
      "  5.8130164e-14 2.4079848e-06]\n",
      " [9.8023825e-26 0.0000000e+00 6.9934730e-37 ... 2.3053132e-15\n",
      "  3.0961522e-10 1.7159506e-29]\n",
      " [9.3609660e-06 4.2620098e-11 2.0630718e-07 ... 5.1981867e-21\n",
      "  3.7511718e-08 2.6840652e-23]]\n"
     ]
    }
   ],
   "source": [
    "#A program to recognise Handwritten digits using Deep learning. Before running please import tensorflow, numpy and matplotlib.\n",
    "\n",
    "import tensorflow as tf\n",
    "\n",
    "\n",
    "mnist = tf.keras.datasets.mnist\n",
    "\n",
    "(x_train, y_train), (x_test, y_test) = mnist.load_data()\n",
    "\n",
    "x_train= tf.keras\n",
    "\n",
    "\n",
    "model = tf.keras.models.Sequential()\n",
    "\n",
    "model.add(tf.keras.layers.Flatten())\n",
    "\n",
    "model.add(tf.keras.layers.Dense(128, activation=tf.nn.relu))\n",
    "\n",
    "\n",
    "model.add(tf.keras.layers.Dense(10, activation=tf.nn.softmax))\n",
    "\n",
    "model.compile(optimizer='adam', loss='sparse_categorical_crossentropy', metrics=['accuracy'])\n",
    "\n",
    "model.fit(x_train, y_train, epochs=3)\n",
    "\n",
    "val_loss, val_acc = model.evaluate(x_test, y_test)\n",
    "\n",
    "\n",
    "print(val_loss)\n",
    "\n",
    "print(val_acc)\n",
    "\n",
    "model.save('epic_num_reader.model')\n",
    "\n",
    "new_model = tf.keras.models.load_model('epic_num_reader.model')\n",
    "\n",
    "predictions = new_model.predict(x_test)\n",
    "print(predictions)\n",
    "\n",
    "\n"
   ]
  },
  {
   "cell_type": "code",
   "execution_count": null,
   "metadata": {
    "colab": {
     "base_uri": "https://localhost:8080/",
     "height": 265
    },
    "id": "5DH0GqMc5o0_",
    "outputId": "48d10dd2-a098-4913-a6a6-bee8ff53635b"
   },
   "outputs": [
    {
     "data": {
      "image/png": "[encoded data removed]",
      "text/plain": [
       "<Figure size 432x288 with 1 Axes>"
      ]
     },
     "metadata": {
      "needs_background": "light",
      "tags": []
     },
     "output_type": "display_data"
    }
   ],
   "source": [
    "import matplotlib.pyplot as plt\n",
    "plt.imshow(x_test[100], cmap= plt.cm.binary)\n",
    "plt.show()\n",
    "\n"
   ]
  },
  {
   "cell_type": "code",
   "execution_count": null,
   "metadata": {
    "colab": {
     "base_uri": "https://localhost:8080/",
     "height": 34
    },
    "id": "1nn4peGxIFC9",
    "outputId": "24c1cf73-a7c8-4acf-da2f-28ac027b1fad"
   },
   "outputs": [
    {
     "name": "stdout",
     "output_type": "stream",
     "text": [
      "6\n"
     ]
    }
   ],
   "source": [
    "\n",
    "import numpy as np\n",
    "print(np.argmax(predictions[100]))"
   ]
  }
 ],
 "metadata": {
  "colab": {
   "collapsed_sections": [],
   "name": "handwrittendigit.ipynb",
   "provenance": []
  },
  "kernelspec": {
   "display_name": "Python 3",
   "language": "python",
   "name": "python3"
  },
  "language_info": {
   "codemirror_mode": {
    "name": "ipython",
    "version": 3
   },
   "file_extension": ".py",
   "mimetype": "text/x-python",
   "name": "python",
   "nbconvert_exporter": "python",
   "pygments_lexer": "ipython3",
   "version": "3.8.5"
  }
 },
 "nbformat": 4,
 "nbformat_minor": 1
}
